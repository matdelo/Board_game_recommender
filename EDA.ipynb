{
 "cells": [
  {
   "cell_type": "code",
   "execution_count": 3,
   "metadata": {},
   "outputs": [],
   "source": [
    "import pandas as pd\n",
    "import numpy as np\n",
    "import matplotlib.pyplot as plt\n",
    "import seaborn as sns"
   ]
  },
  {
   "cell_type": "code",
   "execution_count": 4,
   "metadata": {},
   "outputs": [],
   "source": [
    "# divide data into chunks so computer can manage the data\n",
    "df_chunk = pd.read_csv(r'data/bgg-15m-reviews.csv', \n",
    "                       header=0,\n",
    "                       usecols=['user','ID','rating'],\n",
    "                       chunksize=100000,\n",
    "                       )"
   ]
  },
  {
   "cell_type": "code",
   "execution_count": null,
   "metadata": {},
   "outputs": [],
   "source": []
  },
  {
   "cell_type": "code",
   "execution_count": 5,
   "metadata": {},
   "outputs": [],
   "source": [
    "# concat TextReaderFile to 1 dataset\n",
    "full_data = pd.concat(df_chunk)"
   ]
  },
  {
   "cell_type": "code",
   "execution_count": 6,
   "metadata": {},
   "outputs": [
    {
     "data": {
      "text/html": [
       "<div>\n",
       "<style scoped>\n",
       "    .dataframe tbody tr th:only-of-type {\n",
       "        vertical-align: middle;\n",
       "    }\n",
       "\n",
       "    .dataframe tbody tr th {\n",
       "        vertical-align: top;\n",
       "    }\n",
       "\n",
       "    .dataframe thead th {\n",
       "        text-align: right;\n",
       "    }\n",
       "</style>\n",
       "<table border=\"1\" class=\"dataframe\">\n",
       "  <thead>\n",
       "    <tr style=\"text-align: right;\">\n",
       "      <th></th>\n",
       "      <th>user</th>\n",
       "      <th>rating</th>\n",
       "      <th>ID</th>\n",
       "    </tr>\n",
       "  </thead>\n",
       "  <tbody>\n",
       "    <tr>\n",
       "      <th>0</th>\n",
       "      <td>Torsten</td>\n",
       "      <td>10.0</td>\n",
       "      <td>30549</td>\n",
       "    </tr>\n",
       "    <tr>\n",
       "      <th>1</th>\n",
       "      <td>mitnachtKAUBO-I</td>\n",
       "      <td>10.0</td>\n",
       "      <td>30549</td>\n",
       "    </tr>\n",
       "    <tr>\n",
       "      <th>2</th>\n",
       "      <td>avlawn</td>\n",
       "      <td>10.0</td>\n",
       "      <td>30549</td>\n",
       "    </tr>\n",
       "    <tr>\n",
       "      <th>3</th>\n",
       "      <td>Mike Mayer</td>\n",
       "      <td>10.0</td>\n",
       "      <td>30549</td>\n",
       "    </tr>\n",
       "    <tr>\n",
       "      <th>4</th>\n",
       "      <td>Mease19</td>\n",
       "      <td>10.0</td>\n",
       "      <td>30549</td>\n",
       "    </tr>\n",
       "    <tr>\n",
       "      <th>...</th>\n",
       "      <td>...</td>\n",
       "      <td>...</td>\n",
       "      <td>...</td>\n",
       "    </tr>\n",
       "    <tr>\n",
       "      <th>15823264</th>\n",
       "      <td>Fafhrd65</td>\n",
       "      <td>8.0</td>\n",
       "      <td>281515</td>\n",
       "    </tr>\n",
       "    <tr>\n",
       "      <th>15823265</th>\n",
       "      <td>PlatinumOh</td>\n",
       "      <td>8.0</td>\n",
       "      <td>281515</td>\n",
       "    </tr>\n",
       "    <tr>\n",
       "      <th>15823266</th>\n",
       "      <td>BunkerBill</td>\n",
       "      <td>7.0</td>\n",
       "      <td>281515</td>\n",
       "    </tr>\n",
       "    <tr>\n",
       "      <th>15823267</th>\n",
       "      <td>Hattori Hanzo</td>\n",
       "      <td>6.0</td>\n",
       "      <td>281515</td>\n",
       "    </tr>\n",
       "    <tr>\n",
       "      <th>15823268</th>\n",
       "      <td>Richie2000</td>\n",
       "      <td>1.0</td>\n",
       "      <td>281515</td>\n",
       "    </tr>\n",
       "  </tbody>\n",
       "</table>\n",
       "<p>15823269 rows × 3 columns</p>\n",
       "</div>"
      ],
      "text/plain": [
       "                     user  rating      ID\n",
       "0                 Torsten    10.0   30549\n",
       "1         mitnachtKAUBO-I    10.0   30549\n",
       "2                  avlawn    10.0   30549\n",
       "3              Mike Mayer    10.0   30549\n",
       "4                 Mease19    10.0   30549\n",
       "...                   ...     ...     ...\n",
       "15823264         Fafhrd65     8.0  281515\n",
       "15823265       PlatinumOh     8.0  281515\n",
       "15823266       BunkerBill     7.0  281515\n",
       "15823267    Hattori Hanzo     6.0  281515\n",
       "15823268       Richie2000     1.0  281515\n",
       "\n",
       "[15823269 rows x 3 columns]"
      ]
     },
     "execution_count": 6,
     "metadata": {},
     "output_type": "execute_result"
    }
   ],
   "source": [
    "full_data"
   ]
  },
  {
   "cell_type": "code",
   "execution_count": 22,
   "metadata": {},
   "outputs": [],
   "source": [
    "full_data.drop(full_data[full_data.user.isnull()].index, inplace=True)"
   ]
  },
  {
   "cell_type": "code",
   "execution_count": 28,
   "metadata": {},
   "outputs": [
    {
     "data": {
      "text/html": [
       "<div>\n",
       "<style scoped>\n",
       "    .dataframe tbody tr th:only-of-type {\n",
       "        vertical-align: middle;\n",
       "    }\n",
       "\n",
       "    .dataframe tbody tr th {\n",
       "        vertical-align: top;\n",
       "    }\n",
       "\n",
       "    .dataframe thead th {\n",
       "        text-align: right;\n",
       "    }\n",
       "</style>\n",
       "<table border=\"1\" class=\"dataframe\">\n",
       "  <thead>\n",
       "    <tr style=\"text-align: right;\">\n",
       "      <th></th>\n",
       "      <th>user</th>\n",
       "      <th>rating</th>\n",
       "      <th>ID</th>\n",
       "    </tr>\n",
       "  </thead>\n",
       "  <tbody>\n",
       "  </tbody>\n",
       "</table>\n",
       "</div>"
      ],
      "text/plain": [
       "Empty DataFrame\n",
       "Columns: [user, rating, ID]\n",
       "Index: []"
      ]
     },
     "execution_count": 28,
     "metadata": {},
     "output_type": "execute_result"
    }
   ],
   "source": [
    "full_data[full_data.user.isnull()]"
   ]
  },
  {
   "cell_type": "code",
   "execution_count": 39,
   "metadata": {},
   "outputs": [
    {
     "data": {
      "text/html": [
       "<div>\n",
       "<style scoped>\n",
       "    .dataframe tbody tr th:only-of-type {\n",
       "        vertical-align: middle;\n",
       "    }\n",
       "\n",
       "    .dataframe tbody tr th {\n",
       "        vertical-align: top;\n",
       "    }\n",
       "\n",
       "    .dataframe thead th {\n",
       "        text-align: right;\n",
       "    }\n",
       "</style>\n",
       "<table border=\"1\" class=\"dataframe\">\n",
       "  <thead>\n",
       "    <tr style=\"text-align: right;\">\n",
       "      <th></th>\n",
       "      <th>user</th>\n",
       "      <th>rating</th>\n",
       "      <th>ID</th>\n",
       "    </tr>\n",
       "  </thead>\n",
       "  <tbody>\n",
       "  </tbody>\n",
       "</table>\n",
       "</div>"
      ],
      "text/plain": [
       "Empty DataFrame\n",
       "Columns: [user, rating, ID]\n",
       "Index: []"
      ]
     },
     "execution_count": 39,
     "metadata": {},
     "output_type": "execute_result"
    }
   ],
   "source": [
    "full_data[full_data['user'].isnull() == True]"
   ]
  },
  {
   "cell_type": "code",
   "execution_count": 40,
   "metadata": {},
   "outputs": [],
   "source": [
    "full_data.to_csv('data/user_rating_ID_non_null.csv')"
   ]
  },
  {
   "cell_type": "code",
   "execution_count": 17,
   "metadata": {},
   "outputs": [
    {
     "data": {
      "text/plain": [
       "'When this game first came out I followed it closely.  I even listened to a Google Talk that the designer of the game gave.  Honestly, I didn\\'t get it.  I couldn\\'t tell if it was just another one of these co-ops that ends up being *essentially* \"Go Fish\" (e.g., Lord of the Rings, Shadows over Camelot).  Also, there were reviewers who were writing that every play was obvious and mechanical.  Well, I played this for the first time at GenCon \\'09.  Z-Man had sold out by the end of Saturday, so I bought a copy as soon as I got home.  It\\'s that kind of game.  In ease of rules to interesting outcomes, I\\'d rate it similarly to Ticket to Ride.  The rules are incredibly simple, and very, very tight.  What the rules don\\'t capture, though is that ambiguous dimension of tension.  Some games are able to produce it, some aren\\'t.  Pandemic\\'s the latter.  This was true of a bunch of adults (at GenCon), and has been true with my two daughters (11 and 14).  It\\'s a similar feeling to Twilight Struggle: you never have control over the board, and things can deteriorate very, very quickly.  Me, I like that kind of game, and I\\'d rank this as the best pure co-op that I\\'ve played so far.  Finally, it is simple enough that my daughters have pulled it out on their own when their friends have come over.  I think Z-Man has got a \"classic\" on its hands here. '"
      ]
     },
     "execution_count": 17,
     "metadata": {},
     "output_type": "execute_result"
    }
   ],
   "source": [
    "full_data.comment.iloc[17]"
   ]
  },
  {
   "cell_type": "code",
   "execution_count": 6,
   "metadata": {},
   "outputs": [
    {
     "data": {
      "text/html": [
       "<div>\n",
       "<style scoped>\n",
       "    .dataframe tbody tr th:only-of-type {\n",
       "        vertical-align: middle;\n",
       "    }\n",
       "\n",
       "    .dataframe tbody tr th {\n",
       "        vertical-align: top;\n",
       "    }\n",
       "\n",
       "    .dataframe thead th {\n",
       "        text-align: right;\n",
       "    }\n",
       "</style>\n",
       "<table border=\"1\" class=\"dataframe\">\n",
       "  <thead>\n",
       "    <tr style=\"text-align: right;\">\n",
       "      <th></th>\n",
       "      <th>name</th>\n",
       "      <th>user</th>\n",
       "      <th>rating</th>\n",
       "      <th>comment</th>\n",
       "      <th>ID</th>\n",
       "    </tr>\n",
       "  </thead>\n",
       "  <tbody>\n",
       "    <tr>\n",
       "      <th>0</th>\n",
       "      <td>\"La Garde recule!\"</td>\n",
       "      <td>34</td>\n",
       "      <td>34</td>\n",
       "      <td>14</td>\n",
       "      <td>34</td>\n",
       "    </tr>\n",
       "    <tr>\n",
       "      <th>1</th>\n",
       "      <td>\"Oh My God! There's An Axe In My Head.\" The Ga...</td>\n",
       "      <td>79</td>\n",
       "      <td>79</td>\n",
       "      <td>22</td>\n",
       "      <td>79</td>\n",
       "    </tr>\n",
       "    <tr>\n",
       "      <th>2</th>\n",
       "      <td>\"Scratch One Flat Top!\"</td>\n",
       "      <td>46</td>\n",
       "      <td>46</td>\n",
       "      <td>20</td>\n",
       "      <td>46</td>\n",
       "    </tr>\n",
       "    <tr>\n",
       "      <th>3</th>\n",
       "      <td>\"Tarleton's Quarter!\"</td>\n",
       "      <td>44</td>\n",
       "      <td>44</td>\n",
       "      <td>19</td>\n",
       "      <td>44</td>\n",
       "    </tr>\n",
       "    <tr>\n",
       "      <th>4</th>\n",
       "      <td>#MyLife</td>\n",
       "      <td>46</td>\n",
       "      <td>46</td>\n",
       "      <td>7</td>\n",
       "      <td>46</td>\n",
       "    </tr>\n",
       "  </tbody>\n",
       "</table>\n",
       "</div>"
      ],
      "text/plain": [
       "                                                name  user  rating  comment  \\\n",
       "0                                 \"La Garde recule!\"    34      34       14   \n",
       "1  \"Oh My God! There's An Axe In My Head.\" The Ga...    79      79       22   \n",
       "2                            \"Scratch One Flat Top!\"    46      46       20   \n",
       "3                              \"Tarleton's Quarter!\"    44      44       19   \n",
       "4                                            #MyLife    46      46        7   \n",
       "\n",
       "   ID  \n",
       "0  34  \n",
       "1  79  \n",
       "2  46  \n",
       "3  44  \n",
       "4  46  "
      ]
     },
     "execution_count": 6,
     "metadata": {},
     "output_type": "execute_result"
    }
   ],
   "source": [
    "board_games = full_data.groupby(by ='name',).count().reset_index()\n",
    "board_games.head()"
   ]
  },
  {
   "cell_type": "code",
   "execution_count": 9,
   "metadata": {},
   "outputs": [
    {
     "data": {
      "text/html": [
       "<div>\n",
       "<style scoped>\n",
       "    .dataframe tbody tr th:only-of-type {\n",
       "        vertical-align: middle;\n",
       "    }\n",
       "\n",
       "    .dataframe tbody tr th {\n",
       "        vertical-align: top;\n",
       "    }\n",
       "\n",
       "    .dataframe thead th {\n",
       "        text-align: right;\n",
       "    }\n",
       "</style>\n",
       "<table border=\"1\" class=\"dataframe\">\n",
       "  <thead>\n",
       "    <tr style=\"text-align: right;\">\n",
       "      <th></th>\n",
       "      <th>name</th>\n",
       "      <th>user</th>\n",
       "      <th>rating</th>\n",
       "      <th>comment</th>\n",
       "      <th>ID</th>\n",
       "    </tr>\n",
       "  </thead>\n",
       "  <tbody>\n",
       "    <tr>\n",
       "      <th>11647</th>\n",
       "      <td>Pandemic</td>\n",
       "      <td>96234</td>\n",
       "      <td>96234</td>\n",
       "      <td>13482</td>\n",
       "      <td>96234</td>\n",
       "    </tr>\n",
       "    <tr>\n",
       "      <th>2792</th>\n",
       "      <td>Carcassonne</td>\n",
       "      <td>96220</td>\n",
       "      <td>96221</td>\n",
       "      <td>15472</td>\n",
       "      <td>96221</td>\n",
       "    </tr>\n",
       "    <tr>\n",
       "      <th>2957</th>\n",
       "      <td>Catan</td>\n",
       "      <td>96184</td>\n",
       "      <td>96185</td>\n",
       "      <td>15388</td>\n",
       "      <td>96185</td>\n",
       "    </tr>\n",
       "    <tr>\n",
       "      <th>328</th>\n",
       "      <td>7 Wonders</td>\n",
       "      <td>79870</td>\n",
       "      <td>79870</td>\n",
       "      <td>11367</td>\n",
       "      <td>79870</td>\n",
       "    </tr>\n",
       "    <tr>\n",
       "      <th>4761</th>\n",
       "      <td>Dominion</td>\n",
       "      <td>74953</td>\n",
       "      <td>74954</td>\n",
       "      <td>11334</td>\n",
       "      <td>74954</td>\n",
       "    </tr>\n",
       "    <tr>\n",
       "      <th>16716</th>\n",
       "      <td>Ticket to Ride</td>\n",
       "      <td>67980</td>\n",
       "      <td>67981</td>\n",
       "      <td>10715</td>\n",
       "      <td>67981</td>\n",
       "    </tr>\n",
       "    <tr>\n",
       "      <th>3451</th>\n",
       "      <td>Codenames</td>\n",
       "      <td>62576</td>\n",
       "      <td>62576</td>\n",
       "      <td>7017</td>\n",
       "      <td>62576</td>\n",
       "    </tr>\n",
       "    <tr>\n",
       "      <th>660</th>\n",
       "      <td>Agricola</td>\n",
       "      <td>61601</td>\n",
       "      <td>61601</td>\n",
       "      <td>10780</td>\n",
       "      <td>61601</td>\n",
       "    </tr>\n",
       "    <tr>\n",
       "      <th>12445</th>\n",
       "      <td>Puerto Rico</td>\n",
       "      <td>61157</td>\n",
       "      <td>61158</td>\n",
       "      <td>10261</td>\n",
       "      <td>61158</td>\n",
       "    </tr>\n",
       "    <tr>\n",
       "      <th>14265</th>\n",
       "      <td>Small World</td>\n",
       "      <td>59217</td>\n",
       "      <td>59217</td>\n",
       "      <td>7970</td>\n",
       "      <td>59217</td>\n",
       "    </tr>\n",
       "  </tbody>\n",
       "</table>\n",
       "</div>"
      ],
      "text/plain": [
       "                 name   user  rating  comment     ID\n",
       "11647        Pandemic  96234   96234    13482  96234\n",
       "2792      Carcassonne  96220   96221    15472  96221\n",
       "2957            Catan  96184   96185    15388  96185\n",
       "328         7 Wonders  79870   79870    11367  79870\n",
       "4761         Dominion  74953   74954    11334  74954\n",
       "16716  Ticket to Ride  67980   67981    10715  67981\n",
       "3451        Codenames  62576   62576     7017  62576\n",
       "660          Agricola  61601   61601    10780  61601\n",
       "12445     Puerto Rico  61157   61158    10261  61158\n",
       "14265     Small World  59217   59217     7970  59217"
      ]
     },
     "execution_count": 9,
     "metadata": {},
     "output_type": "execute_result"
    }
   ],
   "source": [
    "board_games.sort_values(by= 'ID',ascending=False).head(10)"
   ]
  },
  {
   "cell_type": "code",
   "execution_count": 14,
   "metadata": {},
   "outputs": [
    {
     "data": {
      "text/plain": [
       "[Text(0, 0, 'Pandemic'),\n",
       " Text(1, 0, 'Carcassonne'),\n",
       " Text(2, 0, 'Catan'),\n",
       " Text(3, 0, '7 Wonders'),\n",
       " Text(4, 0, 'Dominion'),\n",
       " Text(5, 0, 'Ticket to Ride'),\n",
       " Text(6, 0, 'Codenames'),\n",
       " Text(7, 0, 'Agricola'),\n",
       " Text(8, 0, 'Puerto Rico'),\n",
       " Text(9, 0, 'Small World')]"
      ]
     },
     "execution_count": 14,
     "metadata": {},
     "output_type": "execute_result"
    },
    {
     "data": {
      "image/png": "[encoded data removed]",
      "text/plain": [
       "<Figure size 432x288 with 1 Axes>"
      ]
     },
     "metadata": {
      "needs_background": "light"
     },
     "output_type": "display_data"
    }
   ],
   "source": [
    "ax = sns.barplot(x=\"name\", y=\"ID\", data=board_games.sort_values(by= 'ID',ascending=False).head(10))\n",
    "\n",
    "\n",
    "ax.set_xticklabels(ax.get_xticklabels(), rotation=45)\n",
    "plt.sabe"
   ]
  },
  {
   "cell_type": "code",
   "execution_count": 15,
   "metadata": {},
   "outputs": [
    {
     "data": {
      "text/plain": [
       "[Text(0, 0, 'POK'),\n",
       " Text(1, 0, 'Energi'),\n",
       " Text(2, 0, 'Top Ten: The Bill of Rights'),\n",
       " Text(3, 0, 'Embers of Memory: A Throne of Glass Game'),\n",
       " Text(4, 0, 'UBike Tour: Taiwan'),\n",
       " Text(5, 0, 'Storytelling'),\n",
       " Text(6, 0, 'Beyond Humanity: Colonies'),\n",
       " Text(7, 0, 'Pancake Pile-Up'),\n",
       " Text(8, 0, 'Stop it!'),\n",
       " Text(9, 0, 'Just a Peiper Dream?')]"
      ]
     },
     "execution_count": 15,
     "metadata": {},
     "output_type": "execute_result"
    },
    {
     "data": {
      "image/png": "[encoded data removed]",
      "text/plain": [
       "<Figure size 432x288 with 1 Axes>"
      ]
     },
     "metadata": {
      "needs_background": "light"
     },
     "output_type": "display_data"
    }
   ],
   "source": [
    "ax = sns.barplot(x=\"name\", y=\"ID\", data=board_games.sort_values(by= 'ID',ascending=False).tail(10))\n",
    "\n",
    "\n",
    "ax.set_xticklabels(ax.get_xticklabels(), rotation=45)"
   ]
  },
  {
   "cell_type": "code",
   "execution_count": 14,
   "metadata": {},
   "outputs": [
    {
     "data": {
      "text/html": [
       "<div>\n",
       "<style scoped>\n",
       "    .dataframe tbody tr th:only-of-type {\n",
       "        vertical-align: middle;\n",
       "    }\n",
       "\n",
       "    .dataframe tbody tr th {\n",
       "        vertical-align: top;\n",
       "    }\n",
       "\n",
       "    .dataframe thead tr th {\n",
       "        text-align: left;\n",
       "    }\n",
       "</style>\n",
       "<table border=\"1\" class=\"dataframe\">\n",
       "  <thead>\n",
       "    <tr>\n",
       "      <th></th>\n",
       "      <th>name</th>\n",
       "      <th colspan=\"2\" halign=\"left\">rating</th>\n",
       "      <th colspan=\"2\" halign=\"left\">ID</th>\n",
       "    </tr>\n",
       "    <tr>\n",
       "      <th></th>\n",
       "      <th></th>\n",
       "      <th>mean</th>\n",
       "      <th>count</th>\n",
       "      <th>mean</th>\n",
       "      <th>count</th>\n",
       "    </tr>\n",
       "  </thead>\n",
       "  <tbody>\n",
       "    <tr>\n",
       "      <th>0</th>\n",
       "      <td>\"La Garde recule!\"</td>\n",
       "      <td>5.404412</td>\n",
       "      <td>34</td>\n",
       "      <td>122711.0</td>\n",
       "      <td>34</td>\n",
       "    </tr>\n",
       "    <tr>\n",
       "      <th>1</th>\n",
       "      <td>\"Oh My God! There's An Axe In My Head.\" The Ga...</td>\n",
       "      <td>5.905570</td>\n",
       "      <td>79</td>\n",
       "      <td>23304.0</td>\n",
       "      <td>79</td>\n",
       "    </tr>\n",
       "    <tr>\n",
       "      <th>2</th>\n",
       "      <td>\"Scratch One Flat Top!\"</td>\n",
       "      <td>7.390652</td>\n",
       "      <td>46</td>\n",
       "      <td>4016.0</td>\n",
       "      <td>46</td>\n",
       "    </tr>\n",
       "    <tr>\n",
       "      <th>3</th>\n",
       "      <td>\"Tarleton's Quarter!\"</td>\n",
       "      <td>7.022727</td>\n",
       "      <td>44</td>\n",
       "      <td>38836.0</td>\n",
       "      <td>44</td>\n",
       "    </tr>\n",
       "    <tr>\n",
       "      <th>4</th>\n",
       "      <td>#MyLife</td>\n",
       "      <td>5.655435</td>\n",
       "      <td>46</td>\n",
       "      <td>286535.0</td>\n",
       "      <td>46</td>\n",
       "    </tr>\n",
       "  </tbody>\n",
       "</table>\n",
       "</div>"
      ],
      "text/plain": [
       "                                                name    rating        \\\n",
       "                                                          mean count   \n",
       "0                                 \"La Garde recule!\"  5.404412    34   \n",
       "1  \"Oh My God! There's An Axe In My Head.\" The Ga...  5.905570    79   \n",
       "2                            \"Scratch One Flat Top!\"  7.390652    46   \n",
       "3                              \"Tarleton's Quarter!\"  7.022727    44   \n",
       "4                                            #MyLife  5.655435    46   \n",
       "\n",
       "         ID        \n",
       "       mean count  \n",
       "0  122711.0    34  \n",
       "1   23304.0    79  \n",
       "2    4016.0    46  \n",
       "3   38836.0    44  \n",
       "4  286535.0    46  "
      ]
     },
     "execution_count": 14,
     "metadata": {},
     "output_type": "execute_result"
    }
   ],
   "source": [
    "board_games_avg = full_data.groupby(by ='name').agg(['mean','count']).reset_index()\n",
    "board_games_avg.head()"
   ]
  },
  {
   "cell_type": "code",
   "execution_count": 35,
   "metadata": {},
   "outputs": [
    {
     "data": {
      "text/plain": [
       "0        34\n",
       "1        79\n",
       "2        46\n",
       "3        44\n",
       "4        46\n",
       "         ..\n",
       "18979    39\n",
       "18980    33\n",
       "18981    40\n",
       "18982    50\n",
       "18983    39\n",
       "Name: (rating, count), Length: 18984, dtype: int64"
      ]
     },
     "execution_count": 35,
     "metadata": {},
     "output_type": "execute_result"
    }
   ],
   "source": [
    "board_games_avg[('rating', 'count')] "
   ]
  },
  {
   "cell_type": "code",
   "execution_count": 15,
   "metadata": {},
   "outputs": [
    {
     "data": {
      "text/plain": [
       "MultiIndex([(  'name',      ''),\n",
       "            ('rating',  'mean'),\n",
       "            ('rating', 'count'),\n",
       "            (    'ID',  'mean'),\n",
       "            (    'ID', 'count')],\n",
       "           )"
      ]
     },
     "execution_count": 15,
     "metadata": {},
     "output_type": "execute_result"
    }
   ],
   "source": [
    "board_games_avg.columns"
   ]
  },
  {
   "cell_type": "code",
   "execution_count": 18,
   "metadata": {},
   "outputs": [
    {
     "data": {
      "text/html": [
       "<div>\n",
       "<style scoped>\n",
       "    .dataframe tbody tr th:only-of-type {\n",
       "        vertical-align: middle;\n",
       "    }\n",
       "\n",
       "    .dataframe tbody tr th {\n",
       "        vertical-align: top;\n",
       "    }\n",
       "\n",
       "    .dataframe thead tr th {\n",
       "        text-align: left;\n",
       "    }\n",
       "</style>\n",
       "<table border=\"1\" class=\"dataframe\">\n",
       "  <thead>\n",
       "    <tr>\n",
       "      <th></th>\n",
       "      <th>name</th>\n",
       "      <th colspan=\"2\" halign=\"left\">rating</th>\n",
       "      <th colspan=\"2\" halign=\"left\">ID</th>\n",
       "    </tr>\n",
       "    <tr>\n",
       "      <th></th>\n",
       "      <th></th>\n",
       "      <th>mean</th>\n",
       "      <th>count</th>\n",
       "      <th>mean</th>\n",
       "      <th>count</th>\n",
       "    </tr>\n",
       "  </thead>\n",
       "  <tbody>\n",
       "    <tr>\n",
       "      <th>579</th>\n",
       "      <td>Aeolis</td>\n",
       "      <td>9.687500</td>\n",
       "      <td>32</td>\n",
       "      <td>281257.0</td>\n",
       "      <td>32</td>\n",
       "    </tr>\n",
       "    <tr>\n",
       "      <th>5083</th>\n",
       "      <td>Dungeon Crusade: Book I – Genesis of Evil</td>\n",
       "      <td>9.565405</td>\n",
       "      <td>37</td>\n",
       "      <td>147635.0</td>\n",
       "      <td>37</td>\n",
       "    </tr>\n",
       "    <tr>\n",
       "      <th>16686</th>\n",
       "      <td>Thug Life the Game</td>\n",
       "      <td>9.392857</td>\n",
       "      <td>42</td>\n",
       "      <td>211693.0</td>\n",
       "      <td>42</td>\n",
       "    </tr>\n",
       "    <tr>\n",
       "      <th>15612</th>\n",
       "      <td>TerroriXico</td>\n",
       "      <td>9.380282</td>\n",
       "      <td>71</td>\n",
       "      <td>228370.0</td>\n",
       "      <td>71</td>\n",
       "    </tr>\n",
       "    <tr>\n",
       "      <th>3610</th>\n",
       "      <td>Conqueror: Final Conquest</td>\n",
       "      <td>9.360000</td>\n",
       "      <td>35</td>\n",
       "      <td>294788.0</td>\n",
       "      <td>35</td>\n",
       "    </tr>\n",
       "    <tr>\n",
       "      <th>18400</th>\n",
       "      <td>Wings of the Motherland</td>\n",
       "      <td>9.331081</td>\n",
       "      <td>74</td>\n",
       "      <td>85147.0</td>\n",
       "      <td>74</td>\n",
       "    </tr>\n",
       "    <tr>\n",
       "      <th>5116</th>\n",
       "      <td>Dungeon Universalis</td>\n",
       "      <td>9.291042</td>\n",
       "      <td>355</td>\n",
       "      <td>261393.0</td>\n",
       "      <td>355</td>\n",
       "    </tr>\n",
       "    <tr>\n",
       "      <th>4486</th>\n",
       "      <td>Dice Masters</td>\n",
       "      <td>9.286364</td>\n",
       "      <td>44</td>\n",
       "      <td>295574.0</td>\n",
       "      <td>44</td>\n",
       "    </tr>\n",
       "    <tr>\n",
       "      <th>7983</th>\n",
       "      <td>Infinity Defiance</td>\n",
       "      <td>9.279436</td>\n",
       "      <td>67</td>\n",
       "      <td>285853.0</td>\n",
       "      <td>67</td>\n",
       "    </tr>\n",
       "    <tr>\n",
       "      <th>17981</th>\n",
       "      <td>War Titans: Invaders Must Die!</td>\n",
       "      <td>9.266667</td>\n",
       "      <td>60</td>\n",
       "      <td>207203.0</td>\n",
       "      <td>60</td>\n",
       "    </tr>\n",
       "  </tbody>\n",
       "</table>\n",
       "</div>"
      ],
      "text/plain": [
       "                                            name    rating              ID  \\\n",
       "                                                      mean count      mean   \n",
       "579                                       Aeolis  9.687500    32  281257.0   \n",
       "5083   Dungeon Crusade: Book I – Genesis of Evil  9.565405    37  147635.0   \n",
       "16686                         Thug Life the Game  9.392857    42  211693.0   \n",
       "15612                                TerroriXico  9.380282    71  228370.0   \n",
       "3610                   Conqueror: Final Conquest  9.360000    35  294788.0   \n",
       "18400                    Wings of the Motherland  9.331081    74   85147.0   \n",
       "5116                         Dungeon Universalis  9.291042   355  261393.0   \n",
       "4486                                Dice Masters  9.286364    44  295574.0   \n",
       "7983                           Infinity Defiance  9.279436    67  285853.0   \n",
       "17981             War Titans: Invaders Must Die!  9.266667    60  207203.0   \n",
       "\n",
       "             \n",
       "      count  \n",
       "579      32  \n",
       "5083     37  \n",
       "16686    42  \n",
       "15612    71  \n",
       "3610     35  \n",
       "18400    74  \n",
       "5116    355  \n",
       "4486     44  \n",
       "7983     67  \n",
       "17981    60  "
      ]
     },
     "execution_count": 18,
     "metadata": {},
     "output_type": "execute_result"
    }
   ],
   "source": [
    "board_games_avg.sort_values(by= ('rating',  'mean'),ascending=False).head(10)"
   ]
  },
  {
   "cell_type": "code",
   "execution_count": 17,
   "metadata": {},
   "outputs": [
    {
     "data": {
      "text/html": [
       "<div>\n",
       "<style scoped>\n",
       "    .dataframe tbody tr th:only-of-type {\n",
       "        vertical-align: middle;\n",
       "    }\n",
       "\n",
       "    .dataframe tbody tr th {\n",
       "        vertical-align: top;\n",
       "    }\n",
       "\n",
       "    .dataframe thead tr th {\n",
       "        text-align: left;\n",
       "    }\n",
       "</style>\n",
       "<table border=\"1\" class=\"dataframe\">\n",
       "  <thead>\n",
       "    <tr>\n",
       "      <th></th>\n",
       "      <th>name</th>\n",
       "      <th colspan=\"2\" halign=\"left\">rating</th>\n",
       "      <th colspan=\"2\" halign=\"left\">ID</th>\n",
       "    </tr>\n",
       "    <tr>\n",
       "      <th></th>\n",
       "      <th></th>\n",
       "      <th>mean</th>\n",
       "      <th>count</th>\n",
       "      <th>mean</th>\n",
       "      <th>count</th>\n",
       "    </tr>\n",
       "  </thead>\n",
       "  <tbody>\n",
       "    <tr>\n",
       "      <th>11368</th>\n",
       "      <td>Oneupmanship: Mine's Bigger</td>\n",
       "      <td>1.048437</td>\n",
       "      <td>64</td>\n",
       "      <td>144110.0</td>\n",
       "      <td>64</td>\n",
       "    </tr>\n",
       "    <tr>\n",
       "      <th>767</th>\n",
       "      <td>Alien: USCSS Nostromo</td>\n",
       "      <td>1.231933</td>\n",
       "      <td>119</td>\n",
       "      <td>276022.0</td>\n",
       "      <td>119</td>\n",
       "    </tr>\n",
       "    <tr>\n",
       "      <th>13182</th>\n",
       "      <td>Rock Paper Scissors Game</td>\n",
       "      <td>1.320000</td>\n",
       "      <td>30</td>\n",
       "      <td>19377.0</td>\n",
       "      <td>30</td>\n",
       "    </tr>\n",
       "    <tr>\n",
       "      <th>17902</th>\n",
       "      <td>W.W.B</td>\n",
       "      <td>1.416667</td>\n",
       "      <td>42</td>\n",
       "      <td>99918.0</td>\n",
       "      <td>42</td>\n",
       "    </tr>\n",
       "    <tr>\n",
       "      <th>10597</th>\n",
       "      <td>Ms. Monopoly</td>\n",
       "      <td>1.466667</td>\n",
       "      <td>30</td>\n",
       "      <td>289363.0</td>\n",
       "      <td>30</td>\n",
       "    </tr>\n",
       "    <tr>\n",
       "      <th>11549</th>\n",
       "      <td>Overturn: Rising Sands</td>\n",
       "      <td>1.518987</td>\n",
       "      <td>79</td>\n",
       "      <td>240624.0</td>\n",
       "      <td>79</td>\n",
       "    </tr>\n",
       "    <tr>\n",
       "      <th>8020</th>\n",
       "      <td>Intelligent Design vs. Evolution</td>\n",
       "      <td>1.523729</td>\n",
       "      <td>59</td>\n",
       "      <td>28257.0</td>\n",
       "      <td>59</td>\n",
       "    </tr>\n",
       "    <tr>\n",
       "      <th>2387</th>\n",
       "      <td>BreaKey</td>\n",
       "      <td>1.537209</td>\n",
       "      <td>43</td>\n",
       "      <td>18044.0</td>\n",
       "      <td>43</td>\n",
       "    </tr>\n",
       "    <tr>\n",
       "      <th>6738</th>\n",
       "      <td>Global Survival</td>\n",
       "      <td>1.934322</td>\n",
       "      <td>118</td>\n",
       "      <td>2502.0</td>\n",
       "      <td>118</td>\n",
       "    </tr>\n",
       "    <tr>\n",
       "      <th>15166</th>\n",
       "      <td>Super Deck!</td>\n",
       "      <td>2.053288</td>\n",
       "      <td>73</td>\n",
       "      <td>3504.0</td>\n",
       "      <td>73</td>\n",
       "    </tr>\n",
       "  </tbody>\n",
       "</table>\n",
       "</div>"
      ],
      "text/plain": [
       "                                   name    rating              ID      \n",
       "                                             mean count      mean count\n",
       "11368       Oneupmanship: Mine's Bigger  1.048437    64  144110.0    64\n",
       "767               Alien: USCSS Nostromo  1.231933   119  276022.0   119\n",
       "13182          Rock Paper Scissors Game  1.320000    30   19377.0    30\n",
       "17902                             W.W.B  1.416667    42   99918.0    42\n",
       "10597                      Ms. Monopoly  1.466667    30  289363.0    30\n",
       "11549            Overturn: Rising Sands  1.518987    79  240624.0    79\n",
       "8020   Intelligent Design vs. Evolution  1.523729    59   28257.0    59\n",
       "2387                            BreaKey  1.537209    43   18044.0    43\n",
       "6738                    Global Survival  1.934322   118    2502.0   118\n",
       "15166                       Super Deck!  2.053288    73    3504.0    73"
      ]
     },
     "execution_count": 17,
     "metadata": {},
     "output_type": "execute_result"
    }
   ],
   "source": [
    "board_games_avg.sort_values(by= ('rating',  'mean'),ascending=True).head(10)"
   ]
  },
  {
   "cell_type": "code",
   "execution_count": 78,
   "metadata": {},
   "outputs": [
    {
     "data": {
      "image/png": "[encoded data removed]",
      "text/plain": [
       "<Figure size 432x288 with 2 Axes>"
      ]
     },
     "metadata": {
      "needs_background": "light"
     },
     "output_type": "display_data"
    }
   ],
   "source": [
    "hb = plt.hexbin(board_games_avg[('rating', 'count')],board_games_avg[('rating',  'mean')],xscale ='log',cmap='YlGnBu',gridsize=12, mincnt=2,)\n",
    "cb = plt.colorbar(hb)  \n"
   ]
  },
  {
   "cell_type": "code",
   "execution_count": 82,
   "metadata": {},
   "outputs": [
    {
     "data": {
      "text/plain": [
       "Index(['Unnamed: 0', 'ID', 'Name', 'Year', 'Rank', 'Average', 'Bayes average',\n",
       "       'Users rated', 'URL', 'Thumbnail'],\n",
       "      dtype='object')"
      ]
     },
     "execution_count": 82,
     "metadata": {},
     "output_type": "execute_result"
    }
   ],
   "source": [
    "# create dataframe for agg data \n",
    "\n",
    "agg_data = pd.read_csv('data/2020-08-19.csv')\n",
    "agg_data.columns"
   ]
  },
  {
   "cell_type": "code",
   "execution_count": 99,
   "metadata": {},
   "outputs": [
    {
     "data": {
      "image/png": "[encoded data removed]",
      "text/plain": [
       "<Figure size 432x288 with 2 Axes>"
      ]
     },
     "metadata": {
      "needs_background": "light"
     },
     "output_type": "display_data"
    }
   ],
   "source": [
    "hb = plt.hexbin(agg_data['Users rated'],agg_data['Bayes average'],xscale ='log',cmap='YlGnBu',gridsize=25, mincnt=0.25,)\n",
    "cb = plt.colorbar(hb)  "
   ]
  },
  {
   "cell_type": "code",
   "execution_count": 98,
   "metadata": {},
   "outputs": [
    {
     "data": {
      "image/png": "[encoded data removed]",
      "text/plain": [
       "<Figure size 432x288 with 2 Axes>"
      ]
     },
     "metadata": {
      "needs_background": "light"
     },
     "output_type": "display_data"
    }
   ],
   "source": [
    "hb = plt.hexbin(agg_data['Users rated'],agg_data['Average'],xscale ='log',cmap='YlGnBu',gridsize=25, mincnt=0.25,)\n",
    "cb = plt.colorbar(hb)  "
   ]
  },
  {
   "cell_type": "markdown",
   "metadata": {},
   "source": [
    "## ONLY USER RATINGS and GAME ID"
   ]
  },
  {
   "cell_type": "code",
   "execution_count": 4,
   "metadata": {},
   "outputs": [],
   "source": [
    "user_game_rating = full_data[['user','ID','rating']]"
   ]
  },
  {
   "cell_type": "code",
   "execution_count": null,
   "metadata": {},
   "outputs": [],
   "source": []
  },
  {
   "cell_type": "markdown",
   "metadata": {},
   "source": [
    "## Distribution of Number of Rating Per User"
   ]
  },
  {
   "cell_type": "code",
   "execution_count": 17,
   "metadata": {},
   "outputs": [
    {
     "data": {
      "text/plain": [
       "user\n",
       " Fu_Koios             2\n",
       " beastvol             9\n",
       " mycroft             14\n",
       " woh                  5\n",
       "(mostly) harmless     1\n",
       "Name: rating, dtype: int64"
      ]
     },
     "execution_count": 17,
     "metadata": {},
     "output_type": "execute_result"
    }
   ],
   "source": [
    "data = user_game_rating.groupby('user').count()"
   ]
  },
  {
   "cell_type": "code",
   "execution_count": 35,
   "metadata": {},
   "outputs": [
    {
     "data": {
      "text/html": [
       "<div>\n",
       "<style scoped>\n",
       "    .dataframe tbody tr th:only-of-type {\n",
       "        vertical-align: middle;\n",
       "    }\n",
       "\n",
       "    .dataframe tbody tr th {\n",
       "        vertical-align: top;\n",
       "    }\n",
       "\n",
       "    .dataframe thead th {\n",
       "        text-align: right;\n",
       "    }\n",
       "</style>\n",
       "<table border=\"1\" class=\"dataframe\">\n",
       "  <thead>\n",
       "    <tr style=\"text-align: right;\">\n",
       "      <th></th>\n",
       "      <th>ID</th>\n",
       "      <th>rating</th>\n",
       "    </tr>\n",
       "    <tr>\n",
       "      <th>user</th>\n",
       "      <th></th>\n",
       "      <th></th>\n",
       "    </tr>\n",
       "  </thead>\n",
       "  <tbody>\n",
       "    <tr>\n",
       "      <th>leffe dubbel</th>\n",
       "      <td>6027</td>\n",
       "      <td>6027</td>\n",
       "    </tr>\n",
       "  </tbody>\n",
       "</table>\n",
       "</div>"
      ],
      "text/plain": [
       "                ID  rating\n",
       "user                      \n",
       "leffe dubbel  6027    6027"
      ]
     },
     "execution_count": 35,
     "metadata": {},
     "output_type": "execute_result"
    }
   ],
   "source": [
    "data[data.rating == max(data.rating)]"
   ]
  },
  {
   "cell_type": "code",
   "execution_count": 41,
   "metadata": {},
   "outputs": [
    {
     "data": {
      "text/html": [
       "<div>\n",
       "<style scoped>\n",
       "    .dataframe tbody tr th:only-of-type {\n",
       "        vertical-align: middle;\n",
       "    }\n",
       "\n",
       "    .dataframe tbody tr th {\n",
       "        vertical-align: top;\n",
       "    }\n",
       "\n",
       "    .dataframe thead th {\n",
       "        text-align: right;\n",
       "    }\n",
       "</style>\n",
       "<table border=\"1\" class=\"dataframe\">\n",
       "  <thead>\n",
       "    <tr style=\"text-align: right;\">\n",
       "      <th></th>\n",
       "      <th>user</th>\n",
       "      <th>ID</th>\n",
       "      <th>rating</th>\n",
       "    </tr>\n",
       "  </thead>\n",
       "  <tbody>\n",
       "    <tr>\n",
       "      <th>671683</th>\n",
       "      <td>leffe dubbel</td>\n",
       "      <td>102794</td>\n",
       "      <td>9.0</td>\n",
       "    </tr>\n",
       "    <tr>\n",
       "      <th>802542</th>\n",
       "      <td>leffe dubbel</td>\n",
       "      <td>201808</td>\n",
       "      <td>8.0</td>\n",
       "    </tr>\n",
       "    <tr>\n",
       "      <th>841077</th>\n",
       "      <td>leffe dubbel</td>\n",
       "      <td>124742</td>\n",
       "      <td>9.0</td>\n",
       "    </tr>\n",
       "    <tr>\n",
       "      <th>947277</th>\n",
       "      <td>leffe dubbel</td>\n",
       "      <td>10547</td>\n",
       "      <td>8.0</td>\n",
       "    </tr>\n",
       "    <tr>\n",
       "      <th>991706</th>\n",
       "      <td>leffe dubbel</td>\n",
       "      <td>9220</td>\n",
       "      <td>7.0</td>\n",
       "    </tr>\n",
       "    <tr>\n",
       "      <th>...</th>\n",
       "      <td>...</td>\n",
       "      <td>...</td>\n",
       "      <td>...</td>\n",
       "    </tr>\n",
       "    <tr>\n",
       "      <th>15772901</th>\n",
       "      <td>leffe dubbel</td>\n",
       "      <td>122961</td>\n",
       "      <td>9.0</td>\n",
       "    </tr>\n",
       "    <tr>\n",
       "      <th>15780382</th>\n",
       "      <td>leffe dubbel</td>\n",
       "      <td>8740</td>\n",
       "      <td>6.0</td>\n",
       "    </tr>\n",
       "    <tr>\n",
       "      <th>15782488</th>\n",
       "      <td>leffe dubbel</td>\n",
       "      <td>204681</td>\n",
       "      <td>6.0</td>\n",
       "    </tr>\n",
       "    <tr>\n",
       "      <th>15782785</th>\n",
       "      <td>leffe dubbel</td>\n",
       "      <td>196234</td>\n",
       "      <td>8.0</td>\n",
       "    </tr>\n",
       "    <tr>\n",
       "      <th>15793262</th>\n",
       "      <td>leffe dubbel</td>\n",
       "      <td>189427</td>\n",
       "      <td>9.0</td>\n",
       "    </tr>\n",
       "  </tbody>\n",
       "</table>\n",
       "<p>6027 rows × 3 columns</p>\n",
       "</div>"
      ],
      "text/plain": [
       "                  user      ID  rating\n",
       "671683    leffe dubbel  102794     9.0\n",
       "802542    leffe dubbel  201808     8.0\n",
       "841077    leffe dubbel  124742     9.0\n",
       "947277    leffe dubbel   10547     8.0\n",
       "991706    leffe dubbel    9220     7.0\n",
       "...                ...     ...     ...\n",
       "15772901  leffe dubbel  122961     9.0\n",
       "15780382  leffe dubbel    8740     6.0\n",
       "15782488  leffe dubbel  204681     6.0\n",
       "15782785  leffe dubbel  196234     8.0\n",
       "15793262  leffe dubbel  189427     9.0\n",
       "\n",
       "[6027 rows x 3 columns]"
      ]
     },
     "execution_count": 41,
     "metadata": {},
     "output_type": "execute_result"
    }
   ],
   "source": [
    "user_game_rating[user_game_rating['user']=='leffe dubbel']"
   ]
  },
  {
   "cell_type": "code",
   "execution_count": 33,
   "metadata": {},
   "outputs": [
    {
     "data": {
      "text/plain": [
       "<AxesSubplot:xlabel='rating'>"
      ]
     },
     "execution_count": 33,
     "metadata": {},
     "output_type": "execute_result"
    },
    {
     "data": {
      "image/png": "[encoded data removed]",
      "text/plain": [
       "<Figure size 432x288 with 1 Axes>"
      ]
     },
     "metadata": {
      "needs_background": "light"
     },
     "output_type": "display_data"
    }
   ],
   "source": [
    "sns.distplot(data.rating[data.rating <= 50])"
   ]
  },
  {
   "cell_type": "code",
   "execution_count": 32,
   "metadata": {},
   "outputs": [
    {
     "data": {
      "text/plain": [
       "<AxesSubplot:xlabel='rating'>"
      ]
     },
     "execution_count": 32,
     "metadata": {},
     "output_type": "execute_result"
    },
    {
     "data": {
      "image/png": "[encoded data removed]",
      "text/plain": [
       "<Figure size 432x288 with 1 Axes>"
      ]
     },
     "metadata": {
      "needs_background": "light"
     },
     "output_type": "display_data"
    }
   ],
   "source": [
    "sns.distplot(data.rating[data.rating >= 4000])"
   ]
  },
  {
   "cell_type": "markdown",
   "metadata": {},
   "source": [
    "## Meta Data EDA"
   ]
  },
  {
   "cell_type": "code",
   "execution_count": 3,
   "metadata": {},
   "outputs": [],
   "source": [
    "meta_data = pd.read_csv('data/games_detailed_info.csv',index_col = 'Unnamed: 0')"
   ]
  },
  {
   "cell_type": "code",
   "execution_count": 5,
   "metadata": {},
   "outputs": [
    {
     "data": {
      "text/plain": [
       "(19230, 55)"
      ]
     },
     "execution_count": 5,
     "metadata": {},
     "output_type": "execute_result"
    }
   ],
   "source": [
    "meta_data.shape"
   ]
  },
  {
   "cell_type": "code",
   "execution_count": 178,
   "metadata": {},
   "outputs": [
    {
     "data": {
      "text/plain": [
       "['Medical']"
      ]
     },
     "execution_count": 178,
     "metadata": {},
     "output_type": "execute_result"
    }
   ],
   "source": [
    "k = meta_data.boardgamecategory[0].replace(\"'\",'').replace('[','').replace(']','').split(',')\n"
   ]
  },
  {
   "cell_type": "code",
   "execution_count": null,
   "metadata": {},
   "outputs": [],
   "source": []
  },
  {
   "cell_type": "code",
   "execution_count": null,
   "metadata": {},
   "outputs": [],
   "source": [
    "list_of_categories = []\n",
    "for i in meta_data.boardgamecategory.tolist():\n",
    "    print(i.replace)\n",
    "    k = i.replace(\"'\",'').replace('[','').replace(']','').split(',')"
   ]
  },
  {
   "cell_type": "code",
   "execution_count": null,
   "metadata": {},
   "outputs": [],
   "source": []
  },
  {
   "cell_type": "code",
   "execution_count": null,
   "metadata": {},
   "outputs": [],
   "source": []
  },
  {
   "cell_type": "markdown",
   "metadata": {},
   "source": [
    "## Inital Model"
   ]
  },
  {
   "cell_type": "code",
   "execution_count": 12,
   "metadata": {},
   "outputs": [],
   "source": [
    "from surprise import Reader\n",
    "from surprise.dataset import Dataset\n",
    "from surprise.model_selection import cross_validate\n",
    "from surprise import SVD"
   ]
  },
  {
   "cell_type": "code",
   "execution_count": 6,
   "metadata": {},
   "outputs": [],
   "source": [
    "reader = Reader(rating_scale = (0,10))"
   ]
  },
  {
   "cell_type": "code",
   "execution_count": 7,
   "metadata": {},
   "outputs": [],
   "source": [
    "data = Dataset.load_from_df(user_game_rating,reader)"
   ]
  },
  {
   "cell_type": "code",
   "execution_count": null,
   "metadata": {},
   "outputs": [],
   "source": [
    "cross_validate(SVD(), data, measures=['RMSE'], cv=3, verbose=False)"
   ]
  }
 ],
 "metadata": {
  "kernelspec": {
   "display_name": "Python 3",
   "language": "python",
   "name": "python3"
  },
  "language_info": {
   "codemirror_mode": {
    "name": "ipython",
    "version": 3
   },
   "file_extension": ".py",
   "mimetype": "text/x-python",
   "name": "python",
   "nbconvert_exporter": "python",
   "pygments_lexer": "ipython3",
   "version": "3.7.6"
  }
 },
 "nbformat": 4,
 "nbformat_minor": 4
}
